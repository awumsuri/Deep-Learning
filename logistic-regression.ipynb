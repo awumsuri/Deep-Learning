{
 "cells": [
  {
   "cell_type": "code",
   "execution_count": 8,
   "metadata": {},
   "outputs": [],
   "source": [
    "import numpy as np\n",
    "\n",
    "\n",
    "def sigmoid(z):\n",
    "    \"\"\"\n",
    "    Compute the sigmoid of z\n",
    "\n",
    "    Arguments:\n",
    "    z -- A scalar or numpy array of any size.\n",
    "\n",
    "    Return:\n",
    "    s -- sigmoid(z)\n",
    "    \"\"\"\n",
    "\n",
    "    #(≈ 1 line of code)\n",
    "    # s = ...\n",
    "    # YOUR CODE STARTS HERE\n",
    "    s = 1/(1 + np.exp(-z))\n",
    "    \n",
    "    # YOUR CODE ENDS HERE\n",
    "    \n",
    "    return s\n",
    "\n",
    "X =  np.matrix([[ 1.76405235, -0.15135721,  0.44386323,  0.6536186],\n",
    "                [ 0.40015721, -0.10321885,  0.33367433,  0.8644362],\n",
    "                [ 0.97873798,  0.4105985,   1.49407907, -0.74216502],\n",
    "                [ 2.2408932,   0.14404357, -0.20515826,  2.26975462],\n",
    "                [ 1.86755799,  1.45427351,  0.3130677,  -1.45436567],\n",
    "                [-0.97727788,  0.76103773, -0.85409574,  0.04575852],\n",
    "                [ 0.95008842,  0.12167502, -2.55298982, -0.18718385]])\n",
    "\n",
    "\n",
    "b =  0.0\n",
    "w = np.array([[0.],\n",
    " [0.],\n",
    " [0.],\n",
    " [0.],\n",
    " [0.],\n",
    " [0.],\n",
    " [0.]])\n",
    "\n",
    "\n",
    "A = sigmoid(np.dot(w.T,X) +  b )"
   ]
  },
  {
   "cell_type": "code",
   "execution_count": 14,
   "metadata": {},
   "outputs": [
    {
     "name": "stdout",
     "output_type": "stream",
     "text": [
      "B = (1, 5)\n"
     ]
    }
   ],
   "source": [
    "A = np.random.randn(4,5)\n",
    "\n",
    "B = np.sum(A, axis =0, keepdims=True) \n",
    "\n",
    "print(\"B = \" + str(B.shape))"
   ]
  },
  {
   "cell_type": "code",
   "execution_count": null,
   "metadata": {},
   "outputs": [],
   "source": []
  }
 ],
 "metadata": {
  "kernelspec": {
   "display_name": "Python 3",
   "language": "python",
   "name": "python3"
  },
  "language_info": {
   "codemirror_mode": {
    "name": "ipython",
    "version": 3
   },
   "file_extension": ".py",
   "mimetype": "text/x-python",
   "name": "python",
   "nbconvert_exporter": "python",
   "pygments_lexer": "ipython3",
   "version": "3.11.2"
  },
  "orig_nbformat": 4
 },
 "nbformat": 4,
 "nbformat_minor": 2
}
